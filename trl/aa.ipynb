{
 "cells": [
  {
   "cell_type": "code",
   "execution_count": 1,
   "metadata": {},
   "outputs": [
    {
     "name": "stderr",
     "output_type": "stream",
     "text": [
      "/root/miniconda3/envs/transformer_tasks/lib/python3.8/site-packages/tqdm/auto.py:21: TqdmWarning: IProgress not found. Please update jupyter and ipywidgets. See https://ipywidgets.readthedocs.io/en/stable/user_install.html\n",
      "  from .autonotebook import tqdm as notebook_tqdm\n"
     ]
    }
   ],
   "source": [
    "import torch"
   ]
  },
  {
   "cell_type": "code",
   "execution_count": null,
   "metadata": {},
   "outputs": [],
   "source": [
    "# 测试torch.gather使用"
   ]
  },
  {
   "cell_type": "code",
   "execution_count": 4,
   "metadata": {},
   "outputs": [
    {
     "data": {
      "text/plain": [
       "tensor([[[ 0.1770,  1.1301,  0.9511, -1.4429,  0.6314,  1.5918],\n",
       "         [-0.5442, -0.6769,  0.1427,  1.1448, -0.4400,  0.3438],\n",
       "         [ 0.0423, -0.2684,  0.6998,  0.6915,  1.4652,  0.3278],\n",
       "         [ 1.2702,  0.0226, -0.5451, -0.8756, -1.6094,  0.8852],\n",
       "         [ 0.6489,  0.4245,  1.1962, -0.3478, -0.0127, -0.5203]],\n",
       "\n",
       "        [[-2.3077, -1.0497, -0.4176,  0.6287,  1.1691, -0.0733],\n",
       "         [-1.5580,  2.3803, -0.1161,  1.6419,  0.7461,  0.3381],\n",
       "         [ 0.3962, -0.4717,  0.2906,  1.7679,  0.6319, -1.2311],\n",
       "         [-1.2353, -0.9418, -0.8874,  0.2305,  0.8811, -0.5424],\n",
       "         [-1.3844, -1.1737, -0.0896, -0.3576, -0.5700, -0.2836]]])"
      ]
     },
     "execution_count": 4,
     "metadata": {},
     "output_type": "execute_result"
    }
   ],
   "source": [
    "a = torch.randn(2,5,6)  #2个句子5个token，词表大小为6\n",
    "a"
   ]
  },
  {
   "cell_type": "code",
   "execution_count": 8,
   "metadata": {},
   "outputs": [
    {
     "data": {
      "text/plain": [
       "tensor([[0, 2, 4, 1, 3],\n",
       "        [3, 3, 2, 0, 1]])"
      ]
     },
     "execution_count": 8,
     "metadata": {},
     "output_type": "execute_result"
    }
   ],
   "source": [
    "b = [\n",
    "    [0,2,4,1,3],\n",
    "    [3,3,2,0,1]\n",
    "]\n",
    "b = torch.tensor(b)\n",
    "# b.unsqueeze(2)\n",
    "b"
   ]
  },
  {
   "cell_type": "code",
   "execution_count": 11,
   "metadata": {},
   "outputs": [
    {
     "data": {
      "text/plain": [
       "tensor([[ 0.1770,  0.1427,  1.4652,  0.0226, -0.3478],\n",
       "        [ 0.6287,  1.6419,  0.2906, -1.2353, -1.1737]])"
      ]
     },
     "execution_count": 11,
     "metadata": {},
     "output_type": "execute_result"
    }
   ],
   "source": [
    "torch.gather(a, 2, b.unsqueeze(2)).squeeze(-1)"
   ]
  },
  {
   "cell_type": "code",
   "execution_count": 28,
   "metadata": {},
   "outputs": [
    {
     "name": "stdout",
     "output_type": "stream",
     "text": [
      "tensor([0., 0., 1.])\n"
     ]
    }
   ],
   "source": [
    "import torch\n",
    "\n",
    "x = torch.tensor([1., 2., 3.], requires_grad=True)\n",
    "\n",
    "# 求reduced max\n",
    "y = torch.max(x)  \n",
    "y.backward()\n",
    "print(x.grad)  \n",
    "# tensor([1., 1., 1.])\n",
    "\n"
   ]
  },
  {
   "cell_type": "code",
   "execution_count": 29,
   "metadata": {},
   "outputs": [
    {
     "name": "stdout",
     "output_type": "stream",
     "text": [
      "tensor([0., 0., 2.])\n"
     ]
    }
   ],
   "source": [
    "# 求不reduced max\n",
    "y, indices = torch.max(x, 0)\n",
    "y.backward()\n",
    "print(x.grad)\n",
    "# tensor([1., 0., 0.])"
   ]
  },
  {
   "cell_type": "code",
   "execution_count": null,
   "metadata": {},
   "outputs": [],
   "source": []
  }
 ],
 "metadata": {
  "kernelspec": {
   "display_name": "Python 3.8.16 ('transformer_tasks')",
   "language": "python",
   "name": "python3"
  },
  "language_info": {
   "codemirror_mode": {
    "name": "ipython",
    "version": 3
   },
   "file_extension": ".py",
   "mimetype": "text/x-python",
   "name": "python",
   "nbconvert_exporter": "python",
   "pygments_lexer": "ipython3",
   "version": "3.8.16"
  },
  "orig_nbformat": 4,
  "vscode": {
   "interpreter": {
    "hash": "b092f7b526b7e90390b0d1de4c9657ccc6d0be000fd52a903bab0562af0e2a3e"
   }
  }
 },
 "nbformat": 4,
 "nbformat_minor": 2
}
